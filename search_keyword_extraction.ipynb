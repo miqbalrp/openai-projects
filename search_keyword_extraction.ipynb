{
 "cells": [
  {
   "cell_type": "markdown",
   "metadata": {},
   "source": [
    "# 1. Import Library and Dataset"
   ]
  },
  {
   "cell_type": "code",
   "execution_count": 1,
   "metadata": {},
   "outputs": [],
   "source": [
    "import pandas as pd\n",
    "import numpy as np\n",
    "\n",
    "from openai import OpenAI\n",
    "import json\n",
    "\n",
    "from tqdm import tqdm"
   ]
  },
  {
   "cell_type": "code",
   "execution_count": 2,
   "metadata": {},
   "outputs": [
    {
     "name": "stdout",
     "output_type": "stream",
     "text": [
      "   id                       keyword       product product_category  brand\n",
      "0   1                Apple iPad Pro        Tablet      Electronics  Apple\n",
      "1   2             Canon DSLR camera   DSLR Camera      Electronics  Canon\n",
      "2   3               wooden wardrobe      Wardrobe        Furniture    NaN\n",
      "3   4  stainless steel kitchen sink  Kitchen Sink      Kitchenware    NaN\n",
      "4   5           Asus ZenBook laptop        Laptop      Electronics   Asus\n"
     ]
    }
   ],
   "source": [
    "dataset = pd.read_csv('dataset/search_keywords.csv')\n",
    "print(dataset.head(5))"
   ]
  },
  {
   "cell_type": "markdown",
   "metadata": {},
   "source": [
    "# 2. Making an API Request and Handling the Response"
   ]
  },
  {
   "cell_type": "code",
   "execution_count": 3,
   "metadata": {},
   "outputs": [],
   "source": [
    "def load_prompt(file_path):\n",
    "    with open(file_path, 'r') as file:\n",
    "        return file.read()"
   ]
  },
  {
   "cell_type": "code",
   "execution_count": 4,
   "metadata": {},
   "outputs": [],
   "source": [
    "\n",
    "def extract_data_from_keyword(keyword):\n",
    "    # Load system content and user content\n",
    "    system_content = load_prompt('prompts/search_keywords_system_prompt.txt')\n",
    "    user_content = f\"Keywords: {keyword}\"\n",
    "\n",
    "    # Initialize the OpenAI API client\n",
    "    client = OpenAI()\n",
    "\n",
    "    # Make a request to the OpenAI API to generate a chat completion\n",
    "    chat_completion = client.chat.completions.create(\n",
    "        messages=[\n",
    "            {\n",
    "                \"role\": \"system\",\n",
    "                \"content\": system_content\n",
    "            },\n",
    "            {\n",
    "                \"role\": \"user\",\n",
    "                \"content\": user_content\n",
    "            }\n",
    "        ],\n",
    "        model=\"gpt-3.5-turbo\",\n",
    "        temperature=0.3,\n",
    "        max_tokens=4096,\n",
    "        top_p=0.8,\n",
    "        response_format={ \"type\": \"json_object\" }\n",
    "    )\n",
    "\n",
    "    # Extract the completion result and token usage information from the response\n",
    "    completion = chat_completion.choices[0].message.content\n",
    "    result = json.loads(completion)\n",
    "    prompt_tokens_used = chat_completion.usage.prompt_tokens\n",
    "    completion_tokens_used = chat_completion.usage.completion_tokens\n",
    "\n",
    "    return result, prompt_tokens_used, completion_tokens_used"
   ]
  },
  {
   "cell_type": "markdown",
   "metadata": {},
   "source": [
    "# 3. Executing the Function for a Single Query"
   ]
  },
  {
   "cell_type": "code",
   "execution_count": 5,
   "metadata": {},
   "outputs": [
    {
     "name": "stdout",
     "output_type": "stream",
     "text": [
      "Result : {'keyword': 'Apple iPad Pro', 'product': 'iPad Pro', 'product_category': 'Electronics', 'brand': 'Apple'}\n",
      "Prompt Tokens Used : 238\n",
      "Completion Tokens Used : 29\n"
     ]
    }
   ],
   "source": [
    "keyword = \"Apple iPad Pro\"\n",
    "result, prompt_tokens_used, completion_tokens_used = extract_data_from_keyword(keyword)\n",
    "\n",
    "print(f\"Result : {result}\")\n",
    "print(f\"Prompt Tokens Used : {prompt_tokens_used}\")\n",
    "print(f\"Completion Tokens Used : {completion_tokens_used}\")"
   ]
  },
  {
   "cell_type": "markdown",
   "metadata": {},
   "source": [
    "# 4. Executing the Function for a List of Queries"
   ]
  },
  {
   "cell_type": "code",
   "execution_count": 6,
   "metadata": {},
   "outputs": [
    {
     "name": "stderr",
     "output_type": "stream",
     "text": [
      "Processing keywords: 100%|██████████| 5/5 [00:06<00:00,  1.30s/it]\n"
     ]
    }
   ],
   "source": [
    "df_sample = dataset[['keyword']].head(5)\n",
    "\n",
    "results = []\n",
    "total_prompt_tokens_used = 0\n",
    "total_completion_tokens_used = 0\n",
    "\n",
    "for keyword in tqdm(df_sample['keyword'], desc=\"Processing keywords\"):\n",
    "    result, prompt_tokens_used, completion_tokens_used = extract_data_from_keyword(keyword)\n",
    "    results.append(result)\n",
    "\n",
    "    total_prompt_tokens_used += prompt_tokens_used\n",
    "    total_completion_tokens_used += completion_tokens_used\n",
    "\n",
    "df_result = pd.DataFrame(results)"
   ]
  },
  {
   "cell_type": "code",
   "execution_count": 7,
   "metadata": {},
   "outputs": [
    {
     "name": "stdout",
     "output_type": "stream",
     "text": [
      "Result:\n",
      "                        keyword       product product_category  brand\n",
      "0                Apple iPad Pro      iPad Pro      Electronics  Apple\n",
      "1             Canon DSLR camera   DSLR Camera      Electronics  Canon\n",
      "2               wooden wardrobe      Wardrobe        Furniture       \n",
      "3  stainless steel kitchen sink  Kitchen Sink      Kitchenware       \n",
      "4           Asus ZenBook laptop        Laptop      Electronics   Asus\n",
      "Prompt Tokens Used : 1192\n",
      "Completion Tokens Used : 156\n"
     ]
    }
   ],
   "source": [
    "print(f\"Result:\\n{df_result}\")\n",
    "print(f\"Prompt Tokens Used : {total_prompt_tokens_used}\")\n",
    "print(f\"Completion Tokens Used : {total_completion_tokens_used}\")"
   ]
  },
  {
   "cell_type": "markdown",
   "metadata": {},
   "source": [
    "# 5. Model Evaluation"
   ]
  },
  {
   "cell_type": "code",
   "execution_count": 8,
   "metadata": {},
   "outputs": [
    {
     "name": "stderr",
     "output_type": "stream",
     "text": [
      "Processing keywords: 100%|██████████| 100/100 [02:04<00:00,  1.25s/it]\n"
     ]
    }
   ],
   "source": [
    "df_sample = dataset[['keyword']]\n",
    "\n",
    "results = []\n",
    "total_prompt_tokens_used = 0\n",
    "total_completion_tokens_used = 0\n",
    "\n",
    "for keyword in tqdm(df_sample['keyword'], desc=\"Processing keywords\"):\n",
    "    result, prompt_tokens_used, completion_tokens_used = extract_data_from_keyword(keyword)\n",
    "    results.append(result)\n",
    "\n",
    "    total_prompt_tokens_used += prompt_tokens_used\n",
    "    total_completion_tokens_used += completion_tokens_used\n",
    "\n",
    "df_result = pd.DataFrame(results)"
   ]
  },
  {
   "cell_type": "code",
   "execution_count": 9,
   "metadata": {},
   "outputs": [
    {
     "name": "stdout",
     "output_type": "stream",
     "text": [
      "Result:\n",
      "                         keyword           product product_category      brand\n",
      "0                 Apple iPad Pro          iPad Pro      Electronics      Apple\n",
      "1              Canon DSLR camera       DSLR Camera      Electronics      Canon\n",
      "2                wooden wardrobe          Wardrobe        Furniture           \n",
      "3   stainless steel kitchen sink      Kitchen Sink      Kitchenware           \n",
      "4            Asus ZenBook laptop            Laptop      Electronics       Asus\n",
      "..                           ...               ...              ...        ...\n",
      "95           wooden dining table      Dining Table        Furniture           \n",
      "96         Brother laser printer     Laser Printer      Electronics    Brother\n",
      "97        Whirlpool refrigerator      Refrigerator  Home Appliances  Whirlpool\n",
      "98         Adidas running shorts    Running Shorts         Clothing     Adidas\n",
      "99          JBL portable speaker  Portable Speaker      Electronics        JBL\n",
      "\n",
      "[100 rows x 4 columns]\n",
      "Prompt Tokens Used : 23918\n",
      "Completion Tokens Used : 3404\n"
     ]
    }
   ],
   "source": [
    "print(f\"Result:\\n{df_result}\")\n",
    "print(f\"Prompt Tokens Used : {total_prompt_tokens_used}\")\n",
    "print(f\"Completion Tokens Used : {total_completion_tokens_used}\")"
   ]
  },
  {
   "cell_type": "code",
   "execution_count": 10,
   "metadata": {},
   "outputs": [],
   "source": [
    "merged_df = pd.merge(dataset, df_result, on='keyword', suffixes=('_actual', '_pred'))\n",
    "merged_df = merged_df[merged_df['product_category_actual'] != 'Other Categories']"
   ]
  },
  {
   "cell_type": "code",
   "execution_count": 11,
   "metadata": {},
   "outputs": [
    {
     "name": "stdout",
     "output_type": "stream",
     "text": [
      "Accuracy: 0.9518072289156626\n",
      "          Category Precision Recall F1 Score\n",
      "0      Electronics      1.00   0.97     0.98\n",
      "1        Furniture      1.00   1.00     1.00\n",
      "2      Kitchenware      1.00   0.83     0.91\n",
      "3         Clothing      1.00   1.00     1.00\n",
      "4  Home Appliances      0.75   1.00     0.86\n"
     ]
    }
   ],
   "source": [
    "from sklearn.metrics import accuracy_score, precision_score, recall_score, f1_score\n",
    "\n",
    "# Calculate accuracy\n",
    "accuracy = accuracy_score(merged_df['product_category_actual'], merged_df['product_category_pred'])\n",
    "print(f'Accuracy: {accuracy}')\n",
    "\n",
    "# Calculate precision, recall, and F1 score for each category\n",
    "precision = precision_score(merged_df['product_category_actual'], merged_df['product_category_pred'], average=None, labels=merged_df['product_category_actual'].unique())\n",
    "recall = recall_score(merged_df['product_category_actual'], merged_df['product_category_pred'], average=None, labels=merged_df['product_category_actual'].unique())\n",
    "f1 = f1_score(merged_df['product_category_actual'], merged_df['product_category_pred'], average=None, labels=merged_df['product_category_actual'].unique())\n",
    "\n",
    "# Create a DataFrame to display the metrics for each category\n",
    "categories = merged_df['product_category_actual'].unique()\n",
    "metrics_df = pd.DataFrame({\n",
    "    'Category': categories,\n",
    "    'Precision': precision,\n",
    "    'Recall': recall,\n",
    "    'F1 Score': f1\n",
    "})\n",
    "\n",
    "metrics_df['Precision'] = metrics_df['Precision'].apply(lambda x: f\"{x:.2f}\")\n",
    "metrics_df['Recall'] = metrics_df['Recall'].apply(lambda x: f\"{x:.2f}\")\n",
    "metrics_df['F1 Score'] = metrics_df['F1 Score'].apply(lambda x: f\"{x:.2f}\")\n",
    "\n",
    "print(metrics_df)\n"
   ]
  }
 ],
 "metadata": {
  "kernelspec": {
   "display_name": "openai_project_venv",
   "language": "python",
   "name": "python3"
  },
  "language_info": {
   "codemirror_mode": {
    "name": "ipython",
    "version": 3
   },
   "file_extension": ".py",
   "mimetype": "text/x-python",
   "name": "python",
   "nbconvert_exporter": "python",
   "pygments_lexer": "ipython3",
   "version": "3.11.4"
  }
 },
 "nbformat": 4,
 "nbformat_minor": 2
}
